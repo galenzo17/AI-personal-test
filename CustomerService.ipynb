{
  "nbformat": 4,
  "nbformat_minor": 0,
  "metadata": {
    "colab": {
      "provenance": [],
      "authorship_tag": "ABX9TyON6l9HRUsEG0Xld4wCt9qo",
      "include_colab_link": true
    },
    "kernelspec": {
      "name": "python3",
      "display_name": "Python 3"
    },
    "language_info": {
      "name": "python"
    }
  },
  "cells": [
    {
      "cell_type": "markdown",
      "metadata": {
        "id": "view-in-github",
        "colab_type": "text"
      },
      "source": [
        "<a href=\"https://colab.research.google.com/github/galenzo17/AI-personal-test/blob/main/CustomerService.ipynb\" target=\"_parent\"><img src=\"https://colab.research.google.com/assets/colab-badge.svg\" alt=\"Open In Colab\"/></a>"
      ]
    },
    {
      "cell_type": "code",
      "execution_count": 4,
      "metadata": {
        "colab": {
          "base_uri": "https://localhost:8080/"
        },
        "id": "LqZOIzy7XYCr",
        "outputId": "41666993-d28b-411c-c5bd-6a948e5ef33f"
      },
      "outputs": [
        {
          "output_type": "stream",
          "name": "stdout",
          "text": [
            "Unexpected response format: {'type': 'error', 'event_id': 'event_AKaEGgPfXhnRuocxA9sph', 'error': {'type': 'invalid_request_error', 'code': 'invalid_api_key', 'message': 'Incorrect API key provided: tu-api-key. You can find your API key at https://platform.openai.com/account/api-keys.', 'param': None, 'event_id': None}}\n",
            "You: Hola\n",
            "Connection was closed unexpectedly: received 3000 (registered) invalid_request_error.invalid_api_key; then sent 3000 (registered) invalid_request_error.invalid_api_key\n"
          ]
        }
      ],
      "source": [
        "!pip install websockets openai asyncio nest_asyncio --quiet\n",
        "\n",
        "import asyncio\n",
        "import websockets\n",
        "import json\n",
        "import nest_asyncio\n",
        "\n",
        "# Esto permite que asyncio corra en Colab\n",
        "nest_asyncio.apply()\n",
        "\n",
        "# Define la URL de conexión de la API Realtime\n",
        "REALTIME_API_URL = \"wss://api.openai.com/v1/realtime\"\n",
        "\n",
        "# Coloca aquí tu clave de la API de OpenAI\n",
        "API_KEY = \"tu-api-key\"\n",
        "\n",
        "# Función para enviar una solicitud de chat\n",
        "async def connect_realtime():\n",
        "    # Crea el encabezado con la autenticación\n",
        "    headers = {\n",
        "        \"Authorization\": f\"Bearer {API_KEY}\"\n",
        "    }\n",
        "\n",
        "    try:\n",
        "        # Abre una conexión WebSocket\n",
        "        async with websockets.connect(REALTIME_API_URL, extra_headers=headers) as websocket:\n",
        "            # Primer mensaje de bienvenida\n",
        "            welcome_message = {\n",
        "                \"model\": \"gpt-4o-realtime-preview\",\n",
        "                \"messages\": [\n",
        "                    {\"role\": \"system\", \"content\": \"You are a customer support agent for a pharmaceutical company. Respond to questions about medications, dosages, side effects, and availability in a professional manner.\"},\n",
        "                    {\"role\": \"user\", \"content\": \"Hello, I need help with a medication I purchased.\"}\n",
        "                ]\n",
        "            }\n",
        "\n",
        "            # Envía el mensaje de bienvenida\n",
        "            await websocket.send(json.dumps(welcome_message))\n",
        "\n",
        "            # Espera la respuesta del modelo\n",
        "            while True:\n",
        "                try:\n",
        "                    response = await websocket.recv()\n",
        "                    response_data = json.loads(response)\n",
        "\n",
        "                    # Verifica si la respuesta tiene la estructura esperada\n",
        "                    if 'choices' in response_data and response_data['choices']:\n",
        "                        print(f\"Response: {response_data['choices'][0]['message']['content']}\")\n",
        "                    else:\n",
        "                        print(\"Unexpected response format:\", response_data)\n",
        "\n",
        "                    # Toma nueva entrada del usuario\n",
        "                    user_input = input(\"You: \")\n",
        "                    if user_input.lower() in [\"exit\", \"quit\"]:\n",
        "                        break\n",
        "\n",
        "                    # Enviar nuevo mensaje basado en el input del usuario\n",
        "                    new_message = {\n",
        "                        \"model\": \"gpt-4o-realtime-preview\",\n",
        "                        \"messages\": [\n",
        "                            {\"role\": \"user\", \"content\": user_input}\n",
        "                        ]\n",
        "                    }\n",
        "                    await websocket.send(json.dumps(new_message))\n",
        "\n",
        "                except json.JSONDecodeError:\n",
        "                    print(\"Error decoding the response from the server. Retrying...\")\n",
        "                except KeyError:\n",
        "                    print(\"Key not found in response. Check the response structure.\")\n",
        "\n",
        "    except websockets.exceptions.ConnectionClosedError as e:\n",
        "        print(f\"Connection was closed unexpectedly: {e}\")\n",
        "    except Exception as e:\n",
        "        print(f\"An error occurred: {e}\")\n",
        "\n",
        "# Ejecuta la conexión\n",
        "await connect_realtime()"
      ]
    }
  ]
}