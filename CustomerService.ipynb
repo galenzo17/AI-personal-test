{
  "nbformat": 4,
  "nbformat_minor": 0,
  "metadata": {
    "colab": {
      "provenance": [],
      "authorship_tag": "ABX9TyNqen+QI6EhpgcyndUVvbL2",
      "include_colab_link": true
    },
    "kernelspec": {
      "name": "python3",
      "display_name": "Python 3"
    },
    "language_info": {
      "name": "python"
    }
  },
  "cells": [
    {
      "cell_type": "markdown",
      "metadata": {
        "id": "view-in-github",
        "colab_type": "text"
      },
      "source": [
        "<a href=\"https://colab.research.google.com/github/galenzo17/AI-personal-test/blob/main/CustomerService.ipynb\" target=\"_parent\"><img src=\"https://colab.research.google.com/assets/colab-badge.svg\" alt=\"Open In Colab\"/></a>"
      ]
    },
    {
      "cell_type": "code",
      "execution_count": 1,
      "metadata": {
        "colab": {
          "base_uri": "https://localhost:8080/",
          "height": 610
        },
        "id": "LqZOIzy7XYCr",
        "outputId": "e4807cba-666e-4b3e-c725-a108411f7473"
      },
      "outputs": [
        {
          "output_type": "error",
          "ename": "ModuleNotFoundError",
          "evalue": "No module named 'websockets'",
          "traceback": [
            "\u001b[0;31m---------------------------------------------------------------------------\u001b[0m",
            "\u001b[0;31mModuleNotFoundError\u001b[0m                       Traceback (most recent call last)",
            "\u001b[0;32m<ipython-input-1-5fd030a08172>\u001b[0m in \u001b[0;36m<cell line: 2>\u001b[0;34m()\u001b[0m\n\u001b[1;32m      1\u001b[0m \u001b[0;32mimport\u001b[0m \u001b[0masyncio\u001b[0m\u001b[0;34m\u001b[0m\u001b[0;34m\u001b[0m\u001b[0m\n\u001b[0;32m----> 2\u001b[0;31m \u001b[0;32mimport\u001b[0m \u001b[0mwebsockets\u001b[0m\u001b[0;34m\u001b[0m\u001b[0;34m\u001b[0m\u001b[0m\n\u001b[0m\u001b[1;32m      3\u001b[0m \u001b[0;32mimport\u001b[0m \u001b[0mjson\u001b[0m\u001b[0;34m\u001b[0m\u001b[0;34m\u001b[0m\u001b[0m\n\u001b[1;32m      4\u001b[0m \u001b[0;34m\u001b[0m\u001b[0m\n\u001b[1;32m      5\u001b[0m \u001b[0;31m# Define la URL de conexión de la API Realtime\u001b[0m\u001b[0;34m\u001b[0m\u001b[0;34m\u001b[0m\u001b[0m\n",
            "\u001b[0;31mModuleNotFoundError\u001b[0m: No module named 'websockets'",
            "",
            "\u001b[0;31m---------------------------------------------------------------------------\u001b[0;32m\nNOTE: If your import is failing due to a missing package, you can\nmanually install dependencies using either !pip or !apt.\n\nTo view examples of installing some common dependencies, click the\n\"Open Examples\" button below.\n\u001b[0;31m---------------------------------------------------------------------------\u001b[0m\n"
          ],
          "errorDetails": {
            "actions": [
              {
                "action": "open_url",
                "actionText": "Open Examples",
                "url": "/notebooks/snippets/importing_libraries.ipynb"
              }
            ]
          }
        }
      ],
      "source": [
        "import asyncio\n",
        "import websockets\n",
        "import json\n",
        "\n",
        "# Define la URL de conexión de la API Realtime\n",
        "REALTIME_API_URL = \"wss://api.openai.com/v1/realtime\"\n",
        "\n",
        "# Coloca aquí tu clave de la API de OpenAI\n",
        "API_KEY = \"tu-api-key\"\n",
        "\n",
        "# Función para enviar una solicitud de chat\n",
        "async def connect_realtime():\n",
        "    # Crea el encabezado con la autenticación\n",
        "    headers = {\n",
        "        \"Authorization\": f\"Bearer {API_KEY}\"\n",
        "    }\n",
        "\n",
        "    # Abre una conexión WebSocket\n",
        "    async with websockets.connect(REALTIME_API_URL, extra_headers=headers) as websocket:\n",
        "        # Primer mensaje de bienvenida\n",
        "        welcome_message = {\n",
        "            \"model\": \"gpt-4o-realtime-preview\",\n",
        "            \"messages\": [\n",
        "                {\"role\": \"system\", \"content\": \"You are a customer support agent for a pharmaceutical company. Respond to questions about medications, dosages, side effects, and availability in a professional manner.\"},\n",
        "                {\"role\": \"user\", \"content\": \"Hello, I need help with a medication I purchased.\"}\n",
        "            ]\n",
        "        }\n",
        "\n",
        "        # Envía el mensaje de bienvenida\n",
        "        await websocket.send(json.dumps(welcome_message))\n",
        "\n",
        "        # Espera la respuesta del modelo\n",
        "        while True:\n",
        "            response = await websocket.recv()\n",
        "            response_data = json.loads(response)\n",
        "\n",
        "            # Muestra la respuesta del modelo\n",
        "            print(f\"Response: {response_data['choices'][0]['message']['content']}\")\n",
        "\n",
        "            # Toma nueva entrada del usuario\n",
        "            user_input = input(\"You: \")\n",
        "            if user_input.lower() in [\"exit\", \"quit\"]:\n",
        "                break\n",
        "\n",
        "            # Enviar nuevo mensaje basado en el input del usuario\n",
        "            new_message = {\n",
        "                \"model\": \"gpt-4o-realtime-preview\",\n",
        "                \"messages\": [\n",
        "                    {\"role\": \"user\", \"content\": user_input}\n",
        "                ]\n",
        "            }\n",
        "            await websocket.send(json.dumps(new_message))\n",
        "\n",
        "# Ejecuta la conexión\n",
        "asyncio.run(connect_realtime())"
      ]
    }
  ]
}