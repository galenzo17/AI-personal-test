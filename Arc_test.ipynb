{
  "nbformat": 4,
  "nbformat_minor": 0,
  "metadata": {
    "colab": {
      "provenance": [],
      "authorship_tag": "ABX9TyNgM+eqX9VqpugMX6FJ06ZK",
      "include_colab_link": true
    },
    "kernelspec": {
      "name": "python3",
      "display_name": "Python 3"
    },
    "language_info": {
      "name": "python"
    }
  },
  "cells": [
    {
      "cell_type": "markdown",
      "metadata": {
        "id": "view-in-github",
        "colab_type": "text"
      },
      "source": [
        "<a href=\"https://colab.research.google.com/github/galenzo17/AI-personal-test/blob/main/Arc_test.ipynb\" target=\"_parent\"><img src=\"https://colab.research.google.com/assets/colab-badge.svg\" alt=\"Open In Colab\"/></a>"
      ]
    },
    {
      "cell_type": "code",
      "execution_count": null,
      "metadata": {
        "id": "5NhxXMIFIAg7"
      },
      "outputs": [],
      "source": [
        "# Instalar las dependencias necesarias\n",
        "!pip install numpy matplotlib\n",
        "\n",
        "# Clonar el repositorio ARC-AGI\n",
        "!git clone https://github.com/fchollet/ARC-AGI.git\n",
        "\n",
        "# Importar las bibliotecas necesarias\n",
        "import json\n",
        "import numpy as np\n",
        "import matplotlib.pyplot as plt\n",
        "import os\n",
        "\n",
        "# Definir una función para cargar una tarea específica\n",
        "def cargar_tarea(ruta_tarea):\n",
        "    try:\n",
        "        with open(ruta_tarea, 'r') as archivo:\n",
        "            tarea = json.load(archivo)\n",
        "        return tarea\n",
        "    except Exception as e:\n",
        "        print(f\"Error al cargar la tarea: {e}\")\n",
        "        return None\n",
        "\n",
        "# Definir una función para visualizar una cuadrícula\n",
        "def mostrar_cuadricula(cuadricula, titulo):\n",
        "    try:\n",
        "        plt.imshow(cuadricula, cmap='tab10', interpolation='nearest')\n",
        "        plt.title(titulo)\n",
        "        plt.axis('off')\n",
        "        plt.show()\n",
        "    except Exception as e:\n",
        "        print(f\"Error al mostrar la cuadrícula: {e}\")\n",
        "\n",
        "# Ruta a una tarea de ejemplo en el conjunto de datos de entrenamiento\n",
        "ruta_tarea = 'ARC-AGI/data/training/007bbfb7.json'\n",
        "\n",
        "# Cargar la tarea\n",
        "tarea = cargar_tarea(ruta_tarea)\n",
        "\n",
        "if tarea:\n",
        "    # Mostrar las entradas y salidas de entrenamiento\n",
        "    for i, par in enumerate(tarea['train']):\n",
        "        entrada = np.array(par['input'])\n",
        "        salida = np.array(par['output'])\n",
        "        mostrar_cuadricula(entrada, f'Tarea de Entrenamiento {i+1} - Entrada')\n",
        "        mostrar_cuadricula(salida, f'Tarea de Entrenamiento {i+1} - Salida')\n",
        "\n",
        "    # Mostrar las entradas de prueba\n",
        "    for i, par in enumerate(tarea['test']):\n",
        "        entrada = np.array(par['input'])\n",
        "        mostrar_cuadricula(entrada, f'Tarea de Prueba {i+1} - Entrada')"
      ]
    }
  ]
}