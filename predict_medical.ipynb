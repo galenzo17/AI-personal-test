{
  "nbformat": 4,
  "nbformat_minor": 0,
  "metadata": {
    "colab": {
      "provenance": [],
      "authorship_tag": "ABX9TyMlf1BV7ycGywyfFNBl4qCJ",
      "include_colab_link": true
    },
    "kernelspec": {
      "name": "python3",
      "display_name": "Python 3"
    },
    "language_info": {
      "name": "python"
    }
  },
  "cells": [
    {
      "cell_type": "markdown",
      "metadata": {
        "id": "view-in-github",
        "colab_type": "text"
      },
      "source": [
        "<a href=\"https://colab.research.google.com/github/galenzo17/AI-personal-test/blob/main/predict_medical.ipynb\" target=\"_parent\"><img src=\"https://colab.research.google.com/assets/colab-badge.svg\" alt=\"Open In Colab\"/></a>"
      ]
    },
    {
      "cell_type": "code",
      "execution_count": null,
      "metadata": {
        "colab": {
          "base_uri": "https://localhost:8080/"
        },
        "id": "gYkUUbuhaA_b",
        "outputId": "839138e4-24f3-4b3c-bf27-a06d7ea07ea9"
      },
      "outputs": [
        {
          "output_type": "stream",
          "name": "stdout",
          "text": [
            "Requirement already satisfied: pandas in /usr/local/lib/python3.10/dist-packages (2.2.2)\n",
            "Requirement already satisfied: scikit-learn in /usr/local/lib/python3.10/dist-packages (1.5.2)\n",
            "Requirement already satisfied: numpy>=1.22.4 in /usr/local/lib/python3.10/dist-packages (from pandas) (1.26.4)\n",
            "Requirement already satisfied: python-dateutil>=2.8.2 in /usr/local/lib/python3.10/dist-packages (from pandas) (2.8.2)\n",
            "Requirement already satisfied: pytz>=2020.1 in /usr/local/lib/python3.10/dist-packages (from pandas) (2024.2)\n",
            "Requirement already satisfied: tzdata>=2022.7 in /usr/local/lib/python3.10/dist-packages (from pandas) (2024.2)\n",
            "Requirement already satisfied: scipy>=1.6.0 in /usr/local/lib/python3.10/dist-packages (from scikit-learn) (1.13.1)\n",
            "Requirement already satisfied: joblib>=1.2.0 in /usr/local/lib/python3.10/dist-packages (from scikit-learn) (1.4.2)\n",
            "Requirement already satisfied: threadpoolctl>=3.1.0 in /usr/local/lib/python3.10/dist-packages (from scikit-learn) (3.5.0)\n",
            "Requirement already satisfied: six>=1.5 in /usr/local/lib/python3.10/dist-packages (from python-dateutil>=2.8.2->pandas) (1.16.0)\n"
          ]
        }
      ],
      "source": [
        "!pip install pandas scikit-learn\n",
        "# Importar las bibliotecas necesarias\n",
        "import pandas as pd\n",
        "from sklearn.model_selection import train_test_split\n",
        "from sklearn.ensemble import RandomForestClassifier\n",
        "from sklearn.metrics import accuracy_score, classification_report\n",
        "\n",
        "# Cargar el conjunto de datos\n",
        "# Asegúrate de que el archivo CSV esté en el mismo directorio o proporciona la ruta completa\n",
        "data = pd.read_csv('ruta/del/archivo.csv')\n",
        "\n",
        "# Verificar las primeras filas del conjunto de datos\n",
        "print(\"Primeras filas del conjunto de datos:\")\n",
        "print(data.head())\n",
        "\n",
        "# Verificar si hay valores nulos\n",
        "print(\"\\nVerificación de valores nulos:\")\n",
        "print(data.isnull().sum())\n",
        "\n",
        "# Si hay valores nulos, puedes decidir eliminarlos o imputarlos\n",
        "# data = data.dropna()  # Ejemplo de eliminación de filas con valores nulos\n",
        "\n",
        "# Separar las características (X) y la etiqueta (y)\n",
        "X = data.drop(columns=['Disease'])\n",
        "y = data['Disease']\n",
        "\n",
        "# Dividir el conjunto de datos en entrenamiento y prueba\n",
        "X_train, X_test, y_train, y_test = train_test_split(X, y, test_size=0.2, random_state=42)\n",
        "\n",
        "# Entrenar el modelo utilizando RandomForestClassifier\n",
        "model = RandomForestClassifier(n_estimators=100, random_state=42)\n",
        "model.fit(X_train, y_train)\n",
        "\n",
        "# Evaluar el modelo\n",
        "y_pred = model.predict(X_test)\n",
        "accuracy = accuracy_score(y_test, y_pred)\n",
        "print(f'\\nPrecisión del modelo: {accuracy:.2f}')\n",
        "\n",
        "# Informe detallado de clasificación\n",
        "print(\"\\nInforme de clasificación:\")\n",
        "print(classification_report(y_test, y_pred))\n",
        "\n",
        "# Función para predecir la enfermedad basada en los síntomas proporcionados por el usuario\n",
        "def predecir_enfermedad(sintomas_usuario):\n",
        "    # Crear un DataFrame con los síntomas ingresados por el usuario\n",
        "    entrada_usuario = pd.DataFrame([sintomas_usuario], columns=X.columns)\n",
        "    # Realizar la predicción\n",
        "    prediccion = model.predict(entrada_usuario)\n",
        "    return prediccion[0]\n",
        "\n",
        "# Ejemplo de uso\n",
        "# Crea un diccionario con los síntomas que presenta el usuario\n",
        "# Asegúrate de que las claves coincidan con los nombres de las columnas en X\n",
        "sintomas_ejemplo = {\n",
        "    'fiebre': 1,\n",
        "    'tos': 1,\n",
        "    'dolor_de_garganta': 0,\n",
        "    # Añade el resto de los síntomas según corresponda\n",
        "}\n",
        "\n",
        "# Obtener la predicción\n",
        "enfermedad_predicha = predecir_enfermedad(sintomas_ejemplo)\n",
        "print(f'\\nLa enfermedad predicha es: {enfermedad_predicha}')"
      ]
    }
  ]
}