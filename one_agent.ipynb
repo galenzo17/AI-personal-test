{
  "nbformat": 4,
  "nbformat_minor": 0,
  "metadata": {
    "colab": {
      "provenance": [],
      "authorship_tag": "ABX9TyMrzui7hHJFvEuRDG1l/kB1",
      "include_colab_link": true
    },
    "kernelspec": {
      "name": "python3",
      "display_name": "Python 3"
    },
    "language_info": {
      "name": "python"
    }
  },
  "cells": [
    {
      "cell_type": "markdown",
      "metadata": {
        "id": "view-in-github",
        "colab_type": "text"
      },
      "source": [
        "<a href=\"https://colab.research.google.com/github/galenzo17/AI-personal-test/blob/main/one_agent.ipynb\" target=\"_parent\"><img src=\"https://colab.research.google.com/assets/colab-badge.svg\" alt=\"Open In Colab\"/></a>"
      ]
    },
    {
      "cell_type": "code",
      "execution_count": null,
      "metadata": {
        "id": "81Y124ExBMHu"
      },
      "outputs": [],
      "source": [
        "# Instalación de las dependencias necesarias\n",
        "!pip install kaggle\n",
        "!pip install pandas\n",
        "!pip install numpy\n",
        "!pip install scikit-learn\n",
        "!pip install matplotlib\n",
        "!pip install seaborn\n"
      ]
    },
    {
      "cell_type": "code",
      "source": [
        "# Importación de las librerías\n",
        "import pandas as pd\n",
        "import numpy as np\n",
        "import matplotlib.pyplot as plt\n",
        "import seaborn as sns\n",
        "import os\n",
        "\n",
        "from sklearn.model_selection import train_test_split\n",
        "from sklearn.preprocessing import LabelEncoder, StandardScaler\n",
        "from sklearn.metrics import classification_report, confusion_matrix, accuracy_score\n",
        "from sklearn.ensemble import RandomForestClassifier\n"
      ],
      "metadata": {
        "id": "M05EAIOyCBVc"
      },
      "execution_count": null,
      "outputs": []
    },
    {
      "cell_type": "code",
      "source": [
        "# Configuración de la API de Kaggle\n",
        "# Sube tu archivo kaggle.json para acceder a la API de Kaggle\n",
        "from google.colab import files\n",
        "files.upload()\n"
      ],
      "metadata": {
        "id": "GjZnhnVQCDgY"
      },
      "execution_count": null,
      "outputs": []
    },
    {
      "cell_type": "code",
      "source": [
        "# Crear la carpeta .kaggle y mover el archivo kaggle.json\n",
        "!mkdir -p ~/.kaggle\n",
        "!cp kaggle.json ~/.kaggle/\n",
        "!chmod 600 ~/.kaggle/kaggle.json\n"
      ],
      "metadata": {
        "id": "C3OkD7ulCGFK"
      },
      "execution_count": null,
      "outputs": []
    },
    {
      "cell_type": "code",
      "source": [
        "# Descargar el conjunto de datos de riesgo crediticio desde Kaggle\n",
        "!kaggle datasets download -d laotse/credit-risk-dataset\n"
      ],
      "metadata": {
        "id": "Pj05ubj_CHpF"
      },
      "execution_count": null,
      "outputs": []
    },
    {
      "cell_type": "code",
      "source": [
        "# Descomprimir el conjunto de datos\n",
        "!unzip credit-risk-dataset.zip\n"
      ],
      "metadata": {
        "id": "8zzSF3-UCMS_"
      },
      "execution_count": null,
      "outputs": []
    },
    {
      "cell_type": "code",
      "source": [
        "# Cargar el conjunto de datos\n",
        "data = pd.read_csv('credit_risk_dataset.csv')\n"
      ],
      "metadata": {
        "id": "2GPti6s5CO0o"
      },
      "execution_count": null,
      "outputs": []
    },
    {
      "cell_type": "code",
      "source": [
        "# Exploración inicial de los datos\n",
        "print(\"Dimensiones del conjunto de datos:\", data.shape)\n",
        "print(\"\\nPrimeras 5 filas:\")\n",
        "print(data.head())\n",
        "print(\"\\nDescripción estadística:\")\n",
        "print(data.describe())\n",
        "print(\"\\nInformación del conjunto de datos:\")\n",
        "print(data.info())\n"
      ],
      "metadata": {
        "id": "MGBjKTPpCQ_Q"
      },
      "execution_count": null,
      "outputs": []
    },
    {
      "cell_type": "code",
      "source": [
        "# Comprobar valores nulos\n",
        "print(\"Cantidad de valores nulos por columna:\")\n",
        "print(data.isnull().sum())\n"
      ],
      "metadata": {
        "id": "q0M_ozj4CSma"
      },
      "execution_count": null,
      "outputs": []
    },
    {
      "cell_type": "code",
      "source": [
        "# Eliminación o imputación de valores nulos si es necesario\n",
        "# En este caso, eliminaremos filas con valores nulos\n",
        "data = data.dropna()\n"
      ],
      "metadata": {
        "id": "_zjqIw7dCUMt"
      },
      "execution_count": null,
      "outputs": []
    },
    {
      "cell_type": "code",
      "source": [
        "# Codificación de variables categóricas\n",
        "le = LabelEncoder()\n",
        "data['person_home_ownership'] = le.fit_transform(data['person_home_ownership'])\n",
        "data['loan_intent'] = le.fit_transform(data['loan_intent'])\n",
        "data['loan_grade'] = le.fit_transform(data['loan_grade'])\n",
        "data['cb_person_default_on_file'] = le.fit_transform(data['cb_person_default_on_file'])\n"
      ],
      "metadata": {
        "id": "Mh0pSrUICWF4"
      },
      "execution_count": null,
      "outputs": []
    },
    {
      "cell_type": "code",
      "source": [
        "# Separación de variables independientes y dependientes\n",
        "X = data.drop('loan_status', axis=1)\n",
        "y = data['loan_status']\n"
      ],
      "metadata": {
        "id": "sszFQWZQCXuR"
      },
      "execution_count": null,
      "outputs": []
    },
    {
      "cell_type": "code",
      "source": [
        "# División del conjunto de datos en entrenamiento y prueba\n",
        "X_train, X_test, y_train, y_test = train_test_split(X, y, test_size=0.2, random_state=42)\n"
      ],
      "metadata": {
        "id": "1_qPl7x1CZEM"
      },
      "execution_count": null,
      "outputs": []
    },
    {
      "cell_type": "code",
      "source": [
        "# Escalado de características\n",
        "scaler = StandardScaler()\n",
        "X_train = scaler.fit_transform(X_train)\n",
        "X_test = scaler.transform(X_test)\n"
      ],
      "metadata": {
        "id": "mbtXycvDCakJ"
      },
      "execution_count": null,
      "outputs": []
    },
    {
      "cell_type": "code",
      "source": [
        "# Definición del agente (modelo de inteligencia artificial)\n",
        "class CreditRiskAgent:\n",
        "    def __init__(self):\n",
        "        self.model = RandomForestClassifier(n_estimators=100, random_state=42)\n",
        "\n",
        "    def train(self, X, y):\n",
        "        self.model.fit(X, y)\n",
        "\n",
        "    def predict(self, X):\n",
        "        return self.model.predict(X)\n",
        "\n",
        "    def evaluate(self, X, y):\n",
        "        predictions = self.predict(X)\n",
        "        print(\"Matriz de confusión:\")\n",
        "        print(confusion_matrix(y, predictions))\n",
        "        print(\"\\nInforme de clasificación:\")\n",
        "        print(classification_report(y, predictions))\n",
        "        print(\"Exactitud:\", accuracy_score(y, predictions))\n"
      ],
      "metadata": {
        "id": "95NKVGK-CcKx"
      },
      "execution_count": null,
      "outputs": []
    },
    {
      "cell_type": "code",
      "source": [
        "# Crear una instancia del agente y entrenar el modelo\n",
        "agent = CreditRiskAgent()\n",
        "agent.train(X_train, y_train)\n"
      ],
      "metadata": {
        "id": "suCUv49NCeKT"
      },
      "execution_count": null,
      "outputs": []
    },
    {
      "cell_type": "code",
      "source": [
        "# Evaluar el modelo en el conjunto de prueba\n",
        "agent.evaluate(X_test, y_test)\n"
      ],
      "metadata": {
        "id": "u8kyE9PWCgew"
      },
      "execution_count": null,
      "outputs": []
    },
    {
      "cell_type": "code",
      "source": [
        "# Visualización de la importancia de las características\n",
        "importances = agent.model.feature_importances_\n",
        "features = data.drop('loan_status', axis=1).columns\n",
        "indices = np.argsort(importances)\n",
        "\n",
        "plt.figure(figsize=(10, 8))\n",
        "plt.title('Importancia de las características')\n",
        "plt.barh(range(len(indices)), importances[indices], color='b', align='center')\n",
        "plt.yticks(range(len(indices)), [features[i] for i in indices])\n",
        "plt.xlabel('Importancia relativa')\n",
        "plt.show()\n"
      ],
      "metadata": {
        "id": "dtQ_fyMZChHh"
      },
      "execution_count": null,
      "outputs": []
    },
    {
      "cell_type": "code",
      "source": [],
      "metadata": {
        "id": "J2kCHI-6Cim1"
      },
      "execution_count": null,
      "outputs": []
    }
  ]
}