{
  "nbformat": 4,
  "nbformat_minor": 0,
  "metadata": {
    "colab": {
      "provenance": [],
      "authorship_tag": "ABX9TyOijOUNzkOhbhH/l/gWh4LU",
      "include_colab_link": true
    },
    "kernelspec": {
      "name": "python3",
      "display_name": "Python 3"
    },
    "language_info": {
      "name": "python"
    }
  },
  "cells": [
    {
      "cell_type": "markdown",
      "metadata": {
        "id": "view-in-github",
        "colab_type": "text"
      },
      "source": [
        "<a href=\"https://colab.research.google.com/github/galenzo17/AI-personal-test/blob/main/Rag.ipynb\" target=\"_parent\"><img src=\"https://colab.research.google.com/assets/colab-badge.svg\" alt=\"Open In Colab\"/></a>"
      ]
    },
    {
      "cell_type": "code",
      "execution_count": null,
      "metadata": {
        "id": "KpSpVCe48H8c"
      },
      "outputs": [],
      "source": [
        "# Instalación de las bibliotecas necesarias\n",
        "!pip install -q transformers umap-learn matplotlib\n",
        "\n",
        "import os\n",
        "import glob\n",
        "import numpy as np\n",
        "import matplotlib.pyplot as plt\n",
        "import umap\n",
        "from transformers import AutoTokenizer, AutoModel\n",
        "\n",
        "# Montar Google Drive para acceder a los archivos de código\n",
        "from google.colab import drive\n",
        "drive.mount('/content/drive')\n",
        "\n",
        "# Ruta a la carpeta que contiene los archivos de código\n",
        "code_folder = '/content/drive/MyDrive/CarpetaDeCodigo'  # Reemplaza con la ruta adecuada\n",
        "\n",
        "# Cargar el modelo y el tokenizador de embeddings\n",
        "model_name = 'sentence-transformers/all-MiniLM-L6-v2'\n",
        "tokenizer = AutoTokenizer.from_pretrained(model_name)\n",
        "model = AutoModel.from_pretrained(model_name)\n",
        "\n",
        "def read_code_files(folder_path):\n",
        "    \"\"\"Lee todos los archivos de código en la carpeta especificada.\"\"\"\n",
        "    code_files = glob.glob(os.path.join(folder_path, '*.py'))  # Ajusta la extensión según el lenguaje\n",
        "    code_snippets = []\n",
        "    for file_path in code_files:\n",
        "        try:\n",
        "            with open(file_path, 'r', encoding='utf-8') as file:\n",
        "                code = file.read()\n",
        "                code_snippets.append((os.path.basename(file_path), code))\n",
        "        except Exception as e:\n",
        "            print(f\"Error al leer {file_path}: {e}\")\n",
        "    return code_snippets\n",
        "\n",
        "def generate_embeddings(texts):\n",
        "    \"\"\"Genera embeddings para una lista de textos utilizando el modelo especificado.\"\"\"\n",
        "    inputs = tokenizer(texts, padding=True, truncation=True, return_tensors='pt')\n",
        "    with torch.no_grad():\n",
        "        outputs = model(**inputs)\n",
        "    embeddings = outputs.last_hidden_state.mean(dim=1).numpy()\n",
        "    return embeddings\n",
        "\n",
        "# Leer los archivos de código\n",
        "code_snippets = read_code_files(code_folder)\n",
        "file_names = [name for name, _ in code_snippets]\n",
        "code_texts = [code for _, code in code_snippets]\n",
        "\n",
        "# Generar embeddings\n",
        "embeddings = generate_embeddings(code_texts)\n",
        "\n",
        "# Reducir la dimensionalidad para visualización\n",
        "reducer = umap.UMAP(n_neighbors=5, min_dist=0.3, metric='cosine')\n",
        "embedding_2d = reducer.fit_transform(embeddings)\n",
        "\n",
        "# Visualizar los embeddings\n",
        "plt.figure(figsize=(10, 8))\n",
        "plt.scatter(embedding_2d[:, 0], embedding_2d[:, 1], s=100, alpha=0.7)\n",
        "for i, file_name in enumerate(file_names):\n",
        "    plt.text(embedding_2d[i, 0], embedding_2d[i, 1], file_name, fontsize=9)\n",
        "plt.title('Visualización de Embeddings de Archivos de Código')\n",
        "plt.xlabel('Componente 1')\n",
        "plt.ylabel('Componente 2')\n",
        "plt.grid(True)\n",
        "plt.show()"
      ]
    }
  ]
}